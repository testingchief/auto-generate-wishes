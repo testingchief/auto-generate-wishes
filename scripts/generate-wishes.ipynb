{
 "cells": [
  {
   "cell_type": "code",
   "execution_count": 34,
   "metadata": {},
   "outputs": [
    {
     "name": "stdout",
     "output_type": "stream",
     "text": [
      "eF_3z15RmWY https://unsplash.com/photos/eF_3z15RmWY/download?ixid=M3w0OTIwNzR8MHwxfHJhbmRvbXx8fHx8fHx8fDE2OTI2NzU0MDh8\n"
     ]
    }
   ],
   "source": [
    "### get random image download link from Unsplash based on given string\n",
    "from pyunsplash import PyUnsplash\n",
    "\n",
    "search_query = \"birthday dark\"\n",
    "UNSPLASH_ACCESS_KEY = \"q2KQUY_RYzwxud3J3hGuxnbi9OXv_2fHJ6m2c6ZOsKA\"\n",
    "pu = PyUnsplash(api_key=UNSPLASH_ACCESS_KEY)\n",
    "photos = pu.photos(type_='random', count=1, featured=True, orientation='landscape', query=search_query)\n",
    "[photo] = photos.entries\n",
    "\n",
    "print(photo.id, photo.link_download)"
   ]
  },
  {
   "cell_type": "code",
   "execution_count": 35,
   "metadata": {},
   "outputs": [
    {
     "data": {
      "text/plain": [
       "3080816"
      ]
     },
     "execution_count": 35,
     "metadata": {},
     "output_type": "execute_result"
    }
   ],
   "source": [
    "import requests\n",
    "\n",
    "# download required image from unsplash\n",
    "response = requests.get(photo.link_download, allow_redirects=True)\n",
    "temp_image = '../images/unsplash_temp.png'\n",
    "open(temp_image, 'wb').write(response.content)"
   ]
  },
  {
   "cell_type": "code",
   "execution_count": 38,
   "metadata": {},
   "outputs": [],
   "source": [
    "from PIL import Image, ImageFont, ImageDraw\n",
    "\n",
    "# reusable method to get wrapped text\n",
    "def get_wrapped_text(text: str, font: ImageFont.ImageFont,\n",
    "                     line_length: int):\n",
    "        lines = ['']\n",
    "        for word in text.split():\n",
    "            line = f'{lines[-1]} {word}'.strip()\n",
    "            if font.getlength(line) <= line_length:\n",
    "                lines[-1] = line\n",
    "            else:\n",
    "                lines.append(word)\n",
    "        return '\\n'.join(lines)"
   ]
  },
  {
   "cell_type": "code",
   "execution_count": 40,
   "metadata": {},
   "outputs": [],
   "source": [
    "# write text to image\n",
    "final_image = '../images/wish.png'\n",
    "image = Image.open(temp_image)\n",
    "image.thumbnail((500,500), Image.LANCZOS)\n",
    "draw_image = ImageDraw.Draw(image)\n",
    "image_font = ImageFont.truetype('../data/The California.ttf',75)\n",
    "text_to_write = \"Wish you many more happy returns of the day!\"\n",
    "draw_image.text((60,50), get_wrapped_text(text_to_write, image_font, 400), fill=(0,0,0), font=image_font)\n",
    "image.save(final_image)"
   ]
  }
 ],
 "metadata": {
  "kernelspec": {
   "display_name": "Python 3",
   "language": "python",
   "name": "python3"
  },
  "language_info": {
   "codemirror_mode": {
    "name": "ipython",
    "version": 3
   },
   "file_extension": ".py",
   "mimetype": "text/x-python",
   "name": "python",
   "nbconvert_exporter": "python",
   "pygments_lexer": "ipython3",
   "version": "3.10.12"
  },
  "orig_nbformat": 4
 },
 "nbformat": 4,
 "nbformat_minor": 2
}
