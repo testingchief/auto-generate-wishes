{
 "cells": [
  {
   "cell_type": "code",
   "execution_count": null,
   "metadata": {},
   "outputs": [],
   "source": [
    "### get random image download link from Unsplash based on given string\n",
    "\n",
    "search_query = \"birthday\"\n",
    "UNSPLASH_ACCESS_KEY = \"xxxx\"\n",
    "USER_NAME = \"xxxx\"\n"
   ]
  },
  {
   "cell_type": "code",
   "execution_count": null,
   "metadata": {},
   "outputs": [],
   "source": [
    "# get random image download link from Unsplash based on given string\n",
    "from pyunsplash import PyUnsplash\n",
    "\n",
    "pu = PyUnsplash(api_key=UNSPLASH_ACCESS_KEY)\n",
    "photos = pu.photos(type_='random', count=1, featured=True, orientation='landscape', query=search_query)\n",
    "[photo] = photos.entries\n",
    "print(photo.id, photo.link_download)"
   ]
  },
  {
   "cell_type": "code",
   "execution_count": null,
   "metadata": {},
   "outputs": [],
   "source": [
    "# download required image from unsplash\n",
    "import requests\n",
    "import glob\n",
    "import os\n",
    "\n",
    "images_path = '../images/'\n",
    "files = glob.glob(images_path+\"*\")\n",
    "for f in files:\n",
    "    os.remove(f)\n",
    "\n",
    "response = requests.get(photo.link_download, allow_redirects=True)\n",
    "temp_image = images_path + 'unsplash_temp.png'\n",
    "open(temp_image, 'wb').write(response.content)"
   ]
  },
  {
   "cell_type": "code",
   "execution_count": null,
   "metadata": {},
   "outputs": [],
   "source": [
    "# get random birthday message\n",
    "import pandas as pd\n",
    "\n",
    "df = pd.read_csv('../data/birthday_msg.csv')\n",
    "text_to_write = df.loc[df.sample().index, 'birthday_msg'].to_numpy()[0]\n",
    "print(text_to_write)"
   ]
  },
  {
   "cell_type": "code",
   "execution_count": null,
   "metadata": {},
   "outputs": [],
   "source": [
    "# reusable method to get wrapped text\n",
    "from PIL import Image, ImageFont, ImageDraw\n",
    "\n",
    "def get_wrapped_text(text: str, font: ImageFont.ImageFont,\n",
    "                     line_length: int):\n",
    "        lines = ['']\n",
    "        for word in text.split():\n",
    "            line = f'{lines[-1]} {word}'.strip()\n",
    "            if font.getlength(line) <= line_length:\n",
    "                lines[-1] = line\n",
    "            else:\n",
    "                lines.append(word)\n",
    "        lines.append(\" - \" + USER_NAME)\n",
    "        return '\\n'.join(lines)"
   ]
  },
  {
   "cell_type": "code",
   "execution_count": null,
   "metadata": {},
   "outputs": [],
   "source": [
    "# write text to downloaded image\n",
    "import random\n",
    "import string\n",
    "\n",
    "font_ttf = '../data/The California.ttf'\n",
    "font_size = 75\n",
    "font_x_pos = 60\n",
    "font_y_pos = 50\n",
    "font_bg_x_pos = 59\n",
    "font_bg_y_pos = 49\n",
    "\n",
    "font_color = \"#000000\" #black\n",
    "# font_bgcolor = \"#9133FF\" #purple\n",
    "font_bgcolor = \"#FFFF33\" #yellow\n",
    "\n",
    "# font_color = \"#ffffff\" #white\n",
    "# font_bgcolor = \"#333BFF\" #black\n",
    "\n",
    "random_string = ''.join(random.choice(string.ascii_lowercase) for i in range(10))  \n",
    "final_image = '../images/'+random_string+'.png'\n",
    "image = Image.open(temp_image)\n",
    "image.thumbnail((500,500), Image.LANCZOS)\n",
    "draw_image = ImageDraw.Draw(image)\n",
    "image_font = ImageFont.truetype(font_ttf,font_size)\n",
    "\n",
    "draw_image.text((font_bg_x_pos,font_bg_y_pos), get_wrapped_text(text_to_write, image_font, 400), fill=font_bgcolor, font=image_font)\n",
    "draw_image.text((font_x_pos,font_y_pos), get_wrapped_text(text_to_write, image_font, 400), fill=font_color, font=image_font)\n",
    "\n",
    "image.save(final_image)"
   ]
  }
 ],
 "metadata": {
  "kernelspec": {
   "display_name": "Python 3",
   "language": "python",
   "name": "python3"
  },
  "language_info": {
   "codemirror_mode": {
    "name": "ipython",
    "version": 3
   },
   "file_extension": ".py",
   "mimetype": "text/x-python",
   "name": "python",
   "nbconvert_exporter": "python",
   "pygments_lexer": "ipython3",
   "version": "3.11.0"
  },
  "orig_nbformat": 4
 },
 "nbformat": 4,
 "nbformat_minor": 2
}
