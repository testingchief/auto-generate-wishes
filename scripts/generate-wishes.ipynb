{
 "cells": [
  {
   "cell_type": "code",
   "execution_count": 64,
   "metadata": {},
   "outputs": [],
   "source": [
    "### get random image download link from Unsplash based on given string\n",
    "\n",
    "search_query = \"birthday\"\n",
    "UNSPLASH_ACCESS_KEY = \"q2KQUY_RYzwxud3J3hGuxnbi9OXv_2fHJ6m2c6ZOsKA\"\n"
   ]
  },
  {
   "cell_type": "code",
   "execution_count": 65,
   "metadata": {},
   "outputs": [
    {
     "name": "stdout",
     "output_type": "stream",
     "text": [
      "MD_ha01Bk7c https://unsplash.com/photos/MD_ha01Bk7c/download?ixid=M3w0OTIwNzR8MHwxfHJhbmRvbXx8fHx8fHx8fDE2OTI2NzY4NzF8\n"
     ]
    }
   ],
   "source": [
    "# get random image download link from Unsplash based on given string\n",
    "from pyunsplash import PyUnsplash\n",
    "\n",
    "pu = PyUnsplash(api_key=UNSPLASH_ACCESS_KEY)\n",
    "photos = pu.photos(type_='random', count=1, featured=True, orientation='landscape', query=search_query)\n",
    "[photo] = photos.entries\n",
    "print(photo.id, photo.link_download)"
   ]
  },
  {
   "cell_type": "code",
   "execution_count": 66,
   "metadata": {},
   "outputs": [
    {
     "data": {
      "text/plain": [
       "1981453"
      ]
     },
     "execution_count": 66,
     "metadata": {},
     "output_type": "execute_result"
    }
   ],
   "source": [
    "# download required image from unsplash\n",
    "import requests\n",
    "\n",
    "response = requests.get(photo.link_download, allow_redirects=True)\n",
    "temp_image = '../images/unsplash_temp.png'\n",
    "open(temp_image, 'wb').write(response.content)"
   ]
  },
  {
   "cell_type": "code",
   "execution_count": 70,
   "metadata": {},
   "outputs": [],
   "source": [
    "# reusable method to get wrapped text\n",
    "from PIL import Image, ImageFont, ImageDraw\n",
    "\n",
    "def get_wrapped_text(text: str, font: ImageFont.ImageFont,\n",
    "                     line_length: int):\n",
    "        lines = ['']\n",
    "        for word in text.split():\n",
    "            line = f'{lines[-1]} {word}'.strip()\n",
    "            if font.getlength(line) <= line_length:\n",
    "                lines[-1] = line\n",
    "            else:\n",
    "                lines.append(word)\n",
    "        lines.append(\" - Sivakumar Ganesan\")\n",
    "        return '\\n'.join(lines)"
   ]
  },
  {
   "cell_type": "code",
   "execution_count": 71,
   "metadata": {},
   "outputs": [],
   "source": [
    "# write text to downloaded image\n",
    "\n",
    "font_ttf = '../data/The California.ttf'\n",
    "font_size = 75\n",
    "font_x_pos = 60\n",
    "font_y_pos = 50\n",
    "\n",
    "font_color = \"#000000\" #black\n",
    "# font_color = \"#ffffff\" #white\n",
    "\n",
    "\n",
    "final_image = '../images/wish.png'\n",
    "image = Image.open(temp_image)\n",
    "image.thumbnail((500,500), Image.LANCZOS)\n",
    "draw_image = ImageDraw.Draw(image)\n",
    "image_font = ImageFont.truetype(font_ttf,font_size)\n",
    "text_to_write = \"Wish you many more happy returns of the day!\"\n",
    "draw_image.text((font_x_pos,font_y_pos), get_wrapped_text(text_to_write, image_font, 400), fill=font_color, font=image_font)\n",
    "image.save(final_image)"
   ]
  }
 ],
 "metadata": {
  "kernelspec": {
   "display_name": "Python 3",
   "language": "python",
   "name": "python3"
  },
  "language_info": {
   "codemirror_mode": {
    "name": "ipython",
    "version": 3
   },
   "file_extension": ".py",
   "mimetype": "text/x-python",
   "name": "python",
   "nbconvert_exporter": "python",
   "pygments_lexer": "ipython3",
   "version": "3.10.12"
  },
  "orig_nbformat": 4
 },
 "nbformat": 4,
 "nbformat_minor": 2
}
